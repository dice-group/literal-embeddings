{
 "cells": [
  {
   "cell_type": "markdown",
   "metadata": {
    "colab_type": "text",
    "id": "view-in-github"
   },
   "source": [
    "<a href=\"https://colab.research.google.com/github/bayrameda/MrAP/blob/main/MrAP_YAGO15K.ipynb\" target=\"_parent\"><img src=\"https://colab.research.google.com/assets/colab-badge.svg\" alt=\"Open In Colab\"/></a>"
   ]
  },
  {
   "cell_type": "code",
   "execution_count": null,
   "metadata": {
    "colab": {
     "base_uri": "https://localhost:8080/",
     "height": 176
    },
    "id": "zRYQsr7wiEnF",
    "outputId": "d4ab07a6-4906-468d-c588-1f3dd5a76edb"
   },
   "outputs": [
    {
     "name": "stdout",
     "output_type": "stream",
     "text": [
      "Collecting torch-scatter==2.0.4\n",
      "  Downloading https://files.pythonhosted.org/packages/98/a9/47cd92673b6ba251240d587815c763baac2099b07bb76fecdb3b7ae5cece/torch_scatter-2.0.4.tar.gz\n",
      "Building wheels for collected packages: torch-scatter\n",
      "  Building wheel for torch-scatter (setup.py) ... \u001b[?25l\u001b[?25hdone\n",
      "  Created wheel for torch-scatter: filename=torch_scatter-2.0.4-cp36-cp36m-linux_x86_64.whl size=11357778 sha256=d00eebb50752dc77154029c3efc2917e366a04ef1bd63aaf9d0b52230c6c7968\n",
      "  Stored in directory: /root/.cache/pip/wheels/fb/28/28/458ddcee4849d5f8a14dd1be1e957d2e8b2955e8c96b07a12d\n",
      "Successfully built torch-scatter\n",
      "Installing collected packages: torch-scatter\n",
      "Successfully installed torch-scatter-2.0.4\n"
     ]
    }
   ],
   "source": [
    "!pip install torch-scatter==2.0.4"
   ]
  },
  {
   "cell_type": "code",
   "execution_count": 1,
   "metadata": {
    "id": "J9XrMezXiQuz"
   },
   "outputs": [],
   "source": [
    "import numpy as np\n",
    "import torch\n",
    "import pandas as pd\n",
    "import matplotlib.pyplot as plt\n",
    "%matplotlib inline"
   ]
  },
  {
   "cell_type": "code",
   "execution_count": 2,
   "metadata": {
    "colab": {
     "base_uri": "https://localhost:8080/",
     "height": 34
    },
    "id": "rmzDODF9iTG3",
    "outputId": "b1250c9d-145a-4963-a566-34b729ea7c3b"
   },
   "outputs": [
    {
     "name": "stdout",
     "output_type": "stream",
     "text": [
      "cpu\n"
     ]
    }
   ],
   "source": [
    "device = torch.device('cuda' if torch.cuda.is_available() else 'cpu')\n",
    "print(device)"
   ]
  },
  {
   "cell_type": "markdown",
   "metadata": {
    "id": "xZPHygcxiYhQ"
   },
   "source": [
    "# Data Read"
   ]
  },
  {
   "cell_type": "code",
   "execution_count": 3,
   "metadata": {
    "id": "vQMW2HnyiaHZ"
   },
   "outputs": [],
   "source": [
    "ent_100 = pd.read_csv('../KGs/YAGO15k/literals/train.txt', sep='\\t', header=None)\n",
    "ent_dev = pd.read_csv('../KGs/YAGO15k/literals/valid.txt', sep='\\t',header=None,)\n",
    "ent_test = pd.read_csv('../KGs/YAGO15k/literals/test.txt' , sep='\\t', header=None)\n",
    "\n",
    "entities = pd.concat([ent_100, ent_dev, ent_test], ignore_index=True)\n",
    "entities = entities.set_axis(['node', 'attribute', 'numeric'], axis=1)\n",
    "\n",
    "# triples = pd.read_csv('data/triples')\n",
    "\n",
    "# entities = pd.concat([ent_100, ent_dev, ent_test], ignore_index=True)\n",
    "# entities = entities.set_axis(['node', 'attribute', 'numeric'], axis=1)\n",
    "\n",
    "triples = pd.read_csv('../KGs/YAGO15k/YAGO15k_EntityTriples.txt', sep='\\t', header=None, names= ['node_1', 'relation', 'node_2'])\n",
    "triples = triples[triples['node_1'] != triples['node_2']]"
   ]
  },
  {
   "cell_type": "code",
   "execution_count": 4,
   "metadata": {},
   "outputs": [
    {
     "data": {
      "text/html": [
       "<div>\n",
       "<style scoped>\n",
       "    .dataframe tbody tr th:only-of-type {\n",
       "        vertical-align: middle;\n",
       "    }\n",
       "\n",
       "    .dataframe tbody tr th {\n",
       "        vertical-align: top;\n",
       "    }\n",
       "\n",
       "    .dataframe thead th {\n",
       "        text-align: right;\n",
       "    }\n",
       "</style>\n",
       "<table border=\"1\" class=\"dataframe\">\n",
       "  <thead>\n",
       "    <tr style=\"text-align: right;\">\n",
       "      <th></th>\n",
       "      <th>node</th>\n",
       "      <th>attribute</th>\n",
       "      <th>numeric</th>\n",
       "    </tr>\n",
       "  </thead>\n",
       "  <tbody>\n",
       "  </tbody>\n",
       "</table>\n",
       "</div>"
      ],
      "text/plain": [
       "Empty DataFrame\n",
       "Columns: [node, attribute, numeric]\n",
       "Index: []"
      ]
     },
     "execution_count": 4,
     "metadata": {},
     "output_type": "execute_result"
    }
   ],
   "source": [
    "duplicates = entities[entities.duplicated(subset=['node', 'attribute', 'numeric'], keep=False)]\n",
    "duplicates"
   ]
  },
  {
   "cell_type": "markdown",
   "metadata": {
    "id": "Ps9rzjYRG76R"
   },
   "source": [
    "### Extract the multi-relational edge list"
   ]
  },
  {
   "cell_type": "code",
   "execution_count": 5,
   "metadata": {
    "id": "kmS0g885HL9j"
   },
   "outputs": [],
   "source": [
    "from utils import extract_edges_YAGO, estimate_params, drop_sym, reduce_to_singles, performance"
   ]
  },
  {
   "cell_type": "code",
   "execution_count": 6,
   "metadata": {
    "id": "1l56dad8xHVd"
   },
   "outputs": [],
   "source": [
    "dates = ['wasBornOnDate','wasCreatedOnDate','wasDestroyedOnDate', 'diedOnDate','happenedOnDate']\n",
    "corr_attributes = [dates,['hasLatitude'],['hasLongitude']]"
   ]
  },
  {
   "cell_type": "code",
   "execution_count": 8,
   "metadata": {
    "id": "pHP8NynWze-R"
   },
   "outputs": [],
   "source": [
    "edge_list = []\n",
    "relations = []\n",
    "for atts in corr_attributes:\n",
    "  entities_ofint = entities[entities.attribute.isin(atts)]\n",
    "  edge_ofint, rel_ofint = extract_edges_YAGO(triples, entities_ofint)\n",
    "  edge_list = edge_list + edge_ofint\n",
    "  relations = relations + rel_ofint"
   ]
  },
  {
   "cell_type": "markdown",
   "metadata": {
    "id": "uOb3eYytqlCg"
   },
   "source": [
    "## Stats"
   ]
  },
  {
   "cell_type": "code",
   "execution_count": 9,
   "metadata": {
    "colab": {
     "base_uri": "https://localhost:8080/",
     "height": 257
    },
    "id": "0HOmPZG8q4Am",
    "outputId": "3470f123-52cc-4ce3-92d4-01e110283a02"
   },
   "outputs": [
    {
     "data": {
      "text/html": [
       "<div>\n",
       "<style scoped>\n",
       "    .dataframe tbody tr th:only-of-type {\n",
       "        vertical-align: middle;\n",
       "    }\n",
       "\n",
       "    .dataframe tbody tr th {\n",
       "        vertical-align: top;\n",
       "    }\n",
       "\n",
       "    .dataframe thead th {\n",
       "        text-align: right;\n",
       "    }\n",
       "</style>\n",
       "<table border=\"1\" class=\"dataframe\">\n",
       "  <thead>\n",
       "    <tr style=\"text-align: right;\">\n",
       "      <th></th>\n",
       "      <th>count</th>\n",
       "      <th>min</th>\n",
       "      <th>mean</th>\n",
       "      <th>max</th>\n",
       "    </tr>\n",
       "  </thead>\n",
       "  <tbody>\n",
       "    <tr>\n",
       "      <th>wasBornOnDate</th>\n",
       "      <td>8218.0</td>\n",
       "      <td>354.111300</td>\n",
       "      <td>1952.458203</td>\n",
       "      <td>2014.0730</td>\n",
       "    </tr>\n",
       "    <tr>\n",
       "      <th>wasCreatedOnDate</th>\n",
       "      <td>6588.0</td>\n",
       "      <td>100.000000</td>\n",
       "      <td>1904.161563</td>\n",
       "      <td>2018.0914</td>\n",
       "    </tr>\n",
       "    <tr>\n",
       "      <th>hasLatitude</th>\n",
       "      <td>2989.0</td>\n",
       "      <td>-51.683333</td>\n",
       "      <td>37.502377</td>\n",
       "      <td>73.0000</td>\n",
       "    </tr>\n",
       "    <tr>\n",
       "      <th>hasLongitude</th>\n",
       "      <td>2989.0</td>\n",
       "      <td>-175.000000</td>\n",
       "      <td>-39.150271</td>\n",
       "      <td>179.0000</td>\n",
       "    </tr>\n",
       "    <tr>\n",
       "      <th>diedOnDate</th>\n",
       "      <td>1822.0</td>\n",
       "      <td>348.000000</td>\n",
       "      <td>1961.742226</td>\n",
       "      <td>2161.1010</td>\n",
       "    </tr>\n",
       "    <tr>\n",
       "      <th>happenedOnDate</th>\n",
       "      <td>388.0</td>\n",
       "      <td>218.000000</td>\n",
       "      <td>1944.131160</td>\n",
       "      <td>2018.0710</td>\n",
       "    </tr>\n",
       "    <tr>\n",
       "      <th>wasDestroyedOnDate</th>\n",
       "      <td>538.0</td>\n",
       "      <td>476.000000</td>\n",
       "      <td>1966.944244</td>\n",
       "      <td>2017.0416</td>\n",
       "    </tr>\n",
       "  </tbody>\n",
       "</table>\n",
       "</div>"
      ],
      "text/plain": [
       "                     count         min         mean        max\n",
       "wasBornOnDate       8218.0  354.111300  1952.458203  2014.0730\n",
       "wasCreatedOnDate    6588.0  100.000000  1904.161563  2018.0914\n",
       "hasLatitude         2989.0  -51.683333    37.502377    73.0000\n",
       "hasLongitude        2989.0 -175.000000   -39.150271   179.0000\n",
       "diedOnDate          1822.0  348.000000  1961.742226  2161.1010\n",
       "happenedOnDate       388.0  218.000000  1944.131160  2018.0710\n",
       "wasDestroyedOnDate   538.0  476.000000  1966.944244  2017.0416"
      ]
     },
     "execution_count": 9,
     "metadata": {},
     "output_type": "execute_result"
    }
   ],
   "source": [
    "entity_stat = pd.DataFrame(columns=['count','min', 'mean', 'max'])\n",
    "attributes = entities['attribute'].unique().tolist()\n",
    "for key in attributes:\n",
    "  numerics = entities[entities['attribute']==key]['numeric']\n",
    "  entity_stat.loc[key] = [len(numerics), numerics.min(),numerics.mean(),numerics.max()]\n",
    "entity_stat"
   ]
  },
  {
   "cell_type": "markdown",
   "metadata": {
    "id": "mzzqJIHBciFT"
   },
   "source": [
    "### Multi-relational graph stats"
   ]
  },
  {
   "cell_type": "code",
   "execution_count": 10,
   "metadata": {
    "colab": {
     "base_uri": "https://localhost:8080/",
     "height": 141
    },
    "id": "Y-BwjfVUKdBU",
    "outputId": "79f619cb-1c23-4522-c2cd-5ed37a9747cd"
   },
   "outputs": [
    {
     "name": "stdout",
     "output_type": "stream",
     "text": [
      "Number of attribute types =  7\n",
      "Total number of numerical facts =  23532\n",
      "Total number of entities =  15081\n",
      "Total number of triple facts =  138056\n",
      "Number of relation types =  32\n",
      "Number of regression models =  261\n",
      "Number of message passing paths = 186650\n"
     ]
    }
   ],
   "source": [
    "print('Number of attribute types = ', entities['attribute'].nunique())\n",
    "N = len(entities)\n",
    "print('Total number of numerical facts = ', N)\n",
    "print('Total number of entities = ',entities.node.nunique())\n",
    "print('Total number of triple facts = ', len(triples))\n",
    "print('Number of relation types = ',triples.relation.nunique())\n",
    "print('Number of regression models = ', len(relations))\n",
    "asym_edge_list = drop_sym(edge_list)\n",
    "print('Number of message passing paths =', len(np.concatenate(asym_edge_list)))"
   ]
  },
  {
   "cell_type": "code",
   "execution_count": 11,
   "metadata": {
    "id": "48dfM6WssbaC"
   },
   "outputs": [],
   "source": [
    "attribute_labels = entities.attribute.values # corresponding entity labels of the nodes\n",
    "x = entities.numeric.values.copy() # ordering of entities is compatible with the node ordering in triples"
   ]
  },
  {
   "cell_type": "markdown",
   "metadata": {
    "id": "sv5E4oMTtGsY"
   },
   "source": [
    "# Performances"
   ]
  },
  {
   "cell_type": "code",
   "execution_count": 12,
   "metadata": {
    "id": "S52NLzhnjO6H"
   },
   "outputs": [],
   "source": [
    "def indices(entities_interest): #get the indicies of the entities of interest wrt x ordering\n",
    "  return [entities[(entities.node == row[0]) & (entities.attribute == row[1])].index.item() for ind, row in entities_interest.iterrows()]\n",
    "\n",
    "splits = ['100']\n",
    "idx_train = [indices(item) for item in [ent_100]] #train = known, dev+test=unknown\n",
    "\n",
    "def comp_u(idx):\n",
    "  u = np.zeros(N, dtype=bool)\n",
    "  u[idx] = 1\n",
    "  return u\n",
    "\n",
    "u_0_list = [comp_u(idx) for idx in idx_train]\n",
    "\n",
    "idx_test = indices(ent_test)\n",
    "idx_test_atts = [[item for item in idx_test if item in np.where(attribute_labels == att)[0]] for att in attributes]"
   ]
  },
  {
   "cell_type": "markdown",
   "metadata": {
    "id": "PD5JbMC0-vDZ"
   },
   "source": [
    "Ratio known dates"
   ]
  },
  {
   "cell_type": "code",
   "execution_count": 13,
   "metadata": {
    "colab": {
     "base_uri": "https://localhost:8080/",
     "height": 34
    },
    "id": "QdBn9jDC-PB-",
    "outputId": "05cf889b-5879-44e6-eba7-4e27f167ef9e"
   },
   "outputs": [
    {
     "name": "stdout",
     "output_type": "stream",
     "text": [
      "Train=known, ratios= [0.7999745028046915]\n"
     ]
    }
   ],
   "source": [
    "print('Train=known, ratios=', [len(item)/N for item in idx_train])"
   ]
  },
  {
   "cell_type": "code",
   "execution_count": 14,
   "metadata": {
    "id": "hLp5nhaS3FeB"
   },
   "outputs": [],
   "source": [
    "def get_performance(x_pred, u_0):\n",
    "  tups = [performance(x_pred, x[idx], u_0, idx) for idx in idx_test_atts] # performance on each attribute type\n",
    "  return [item for tupl in tups for item in tupl] #merging all"
   ]
  },
  {
   "cell_type": "markdown",
   "metadata": {
    "id": "Xzpm7MmJRl9g"
   },
   "source": [
    "## Algorithms"
   ]
  },
  {
   "cell_type": "code",
   "execution_count": 15,
   "metadata": {
    "id": "w4xw983K5ccO"
   },
   "outputs": [],
   "source": [
    "from MrAP import MrAP\n",
    "from algs import Global, Local, iter_MrAP"
   ]
  },
  {
   "cell_type": "markdown",
   "metadata": {
    "id": "EnKMRvr7Tyrj"
   },
   "source": [
    "A variation : Reduction of the edges to the ones among single type of attribute \\\\\n",
    "i.e., reduce the regression of one attribute from the same type of another"
   ]
  },
  {
   "cell_type": "code",
   "execution_count": 16,
   "metadata": {
    "id": "-nzP9gCg5lAl"
   },
   "outputs": [],
   "source": [
    "edge_list_singles, relations_singles, attribute_coupled = reduce_to_singles(edge_list, attribute_labels)\n",
    "asym_edge_list_singles = drop_sym(edge_list_singles)"
   ]
  },
  {
   "cell_type": "code",
   "execution_count": 17,
   "metadata": {
    "id": "MnJdJ2zH37Eh"
   },
   "outputs": [],
   "source": [
    "taus, omegas, _, _ = estimate_params(edge_list, x)\n",
    "tau_singles = taus[relations_singles]\n",
    "omega_singles = omegas[relations_singles]"
   ]
  },
  {
   "cell_type": "code",
   "execution_count": 18,
   "metadata": {
    "id": "5_FF1jE5Ry2n"
   },
   "outputs": [],
   "source": [
    "model = MrAP(device=device, edge_list=asym_edge_list, omega=omegas, tau=taus)\n",
    "model_singles = MrAP(device=device, edge_list=asym_edge_list_singles, omega=omega_singles, tau=tau_singles)"
   ]
  },
  {
   "cell_type": "code",
   "execution_count": 19,
   "metadata": {
    "id": "vVEVSgoR1oHm"
   },
   "outputs": [],
   "source": [
    "table_result = pd.DataFrame(columns=['born-RMSE', 'born-MAE', 'Created-RMSE', 'Created-MAE', 'Destroyed-RMSE', 'Destroyed-MAE','died-RMSE', 'died-MAE',\n",
    "                                     'Long-RMSE', 'Long-MAE', 'Lat-RMSE', 'Lat-MAE', 'happened-RMSE', 'happened-MAE' ])\n",
    "\n",
    "kk=0\n",
    "for u_00 in u_0_list:\n",
    "  u_0 = torch.tensor(u_00, device=device)\n",
    "  x_0 = torch.tensor(x, device=device)\n",
    "  x_0[u_0 == 0] = 0 # Zero-padding of unknown\n",
    "\n",
    "  x_pred = Global(x_0, u_0, attribute_labels)\n",
    "  table_result.loc['Global-' + splits[kk]] = get_performance(x_pred, u_0)\n",
    "\n",
    "  x_pred = Local(asym_edge_list, x_0, u_0, attribute_labels)\n",
    "  table_result.loc['Local-' + splits[kk]] = get_performance(x_pred, u_0)\n",
    "\n",
    "  x_pred = iter_MrAP(x_0, u_0, model_singles, xi=0.5, entity_labels=attribute_labels)\n",
    "  table_result.loc['MrAP_single-' + splits[kk]]  = get_performance(x_pred, u_0)\n",
    "\n",
    "  x_pred = iter_MrAP(x_0, u_0, model, xi=0.5, entity_labels=attribute_labels)\n",
    "  table_result.loc['MrAP_cross-' + splits[kk]]  = get_performance(x_pred, u_0)\n",
    "\n",
    "  kk = kk+1"
   ]
  },
  {
   "cell_type": "code",
   "execution_count": 20,
   "metadata": {
    "colab": {
     "base_uri": "https://localhost:8080/",
     "height": 527
    },
    "id": "YR89_-XGe13e",
    "outputId": "da3bc65c-8f2b-419f-95d9-d1fdf9ba8aab"
   },
   "outputs": [
    {
     "data": {
      "text/html": [
       "<div>\n",
       "<style scoped>\n",
       "    .dataframe tbody tr th:only-of-type {\n",
       "        vertical-align: middle;\n",
       "    }\n",
       "\n",
       "    .dataframe tbody tr th {\n",
       "        vertical-align: top;\n",
       "    }\n",
       "\n",
       "    .dataframe thead th {\n",
       "        text-align: right;\n",
       "    }\n",
       "</style>\n",
       "<table border=\"1\" class=\"dataframe\">\n",
       "  <thead>\n",
       "    <tr style=\"text-align: right;\">\n",
       "      <th></th>\n",
       "      <th>born-RMSE</th>\n",
       "      <th>born-MAE</th>\n",
       "      <th>Created-RMSE</th>\n",
       "      <th>Created-MAE</th>\n",
       "      <th>Destroyed-RMSE</th>\n",
       "      <th>Destroyed-MAE</th>\n",
       "      <th>died-RMSE</th>\n",
       "      <th>died-MAE</th>\n",
       "      <th>Long-RMSE</th>\n",
       "      <th>Long-MAE</th>\n",
       "      <th>Lat-RMSE</th>\n",
       "      <th>Lat-MAE</th>\n",
       "      <th>happened-RMSE</th>\n",
       "      <th>happened-MAE</th>\n",
       "    </tr>\n",
       "  </thead>\n",
       "  <tbody>\n",
       "    <tr>\n",
       "      <th>Global-100</th>\n",
       "      <td>49.563165</td>\n",
       "      <td>26.494826</td>\n",
       "      <td>156.338394</td>\n",
       "      <td>91.565368</td>\n",
       "      <td>14.514309</td>\n",
       "      <td>9.169515</td>\n",
       "      <td>71.784233</td>\n",
       "      <td>60.466441</td>\n",
       "      <td>171.630996</td>\n",
       "      <td>58.508044</td>\n",
       "      <td>76.164550</td>\n",
       "      <td>54.443786</td>\n",
       "      <td>56.516399</td>\n",
       "      <td>42.638540</td>\n",
       "    </tr>\n",
       "    <tr>\n",
       "      <th>Local-100</th>\n",
       "      <td>37.729378</td>\n",
       "      <td>24.088106</td>\n",
       "      <td>218.099283</td>\n",
       "      <td>146.536987</td>\n",
       "      <td>5.717964</td>\n",
       "      <td>2.590733</td>\n",
       "      <td>25.616566</td>\n",
       "      <td>9.468187</td>\n",
       "      <td>132.307627</td>\n",
       "      <td>54.703934</td>\n",
       "      <td>76.164550</td>\n",
       "      <td>54.443786</td>\n",
       "      <td>59.052033</td>\n",
       "      <td>43.582202</td>\n",
       "    </tr>\n",
       "    <tr>\n",
       "      <th>MrAP_single-100</th>\n",
       "      <td>36.474859</td>\n",
       "      <td>24.015162</td>\n",
       "      <td>185.560353</td>\n",
       "      <td>100.893683</td>\n",
       "      <td>4.590147</td>\n",
       "      <td>1.964421</td>\n",
       "      <td>17.379443</td>\n",
       "      <td>5.913326</td>\n",
       "      <td>122.858593</td>\n",
       "      <td>55.541310</td>\n",
       "      <td>76.164550</td>\n",
       "      <td>54.443786</td>\n",
       "      <td>60.018016</td>\n",
       "      <td>44.393936</td>\n",
       "    </tr>\n",
       "    <tr>\n",
       "      <th>MrAP_cross-100</th>\n",
       "      <td>30.934117</td>\n",
       "      <td>17.738172</td>\n",
       "      <td>145.037056</td>\n",
       "      <td>67.856857</td>\n",
       "      <td>4.591997</td>\n",
       "      <td>1.965180</td>\n",
       "      <td>17.380309</td>\n",
       "      <td>5.914758</td>\n",
       "      <td>99.037263</td>\n",
       "      <td>36.085294</td>\n",
       "      <td>130.613365</td>\n",
       "      <td>62.409168</td>\n",
       "      <td>84.106420</td>\n",
       "      <td>39.723800</td>\n",
       "    </tr>\n",
       "  </tbody>\n",
       "</table>\n",
       "</div>"
      ],
      "text/plain": [
       "                 born-RMSE   born-MAE  Created-RMSE  Created-MAE  \\\n",
       "Global-100       49.563165  26.494826    156.338394    91.565368   \n",
       "Local-100        37.729378  24.088106    218.099283   146.536987   \n",
       "MrAP_single-100  36.474859  24.015162    185.560353   100.893683   \n",
       "MrAP_cross-100   30.934117  17.738172    145.037056    67.856857   \n",
       "\n",
       "                 Destroyed-RMSE  Destroyed-MAE  died-RMSE   died-MAE  \\\n",
       "Global-100            14.514309       9.169515  71.784233  60.466441   \n",
       "Local-100              5.717964       2.590733  25.616566   9.468187   \n",
       "MrAP_single-100        4.590147       1.964421  17.379443   5.913326   \n",
       "MrAP_cross-100         4.591997       1.965180  17.380309   5.914758   \n",
       "\n",
       "                  Long-RMSE   Long-MAE    Lat-RMSE    Lat-MAE  happened-RMSE  \\\n",
       "Global-100       171.630996  58.508044   76.164550  54.443786      56.516399   \n",
       "Local-100        132.307627  54.703934   76.164550  54.443786      59.052033   \n",
       "MrAP_single-100  122.858593  55.541310   76.164550  54.443786      60.018016   \n",
       "MrAP_cross-100    99.037263  36.085294  130.613365  62.409168      84.106420   \n",
       "\n",
       "                 happened-MAE  \n",
       "Global-100          42.638540  \n",
       "Local-100           43.582202  \n",
       "MrAP_single-100     44.393936  \n",
       "MrAP_cross-100      39.723800  "
      ]
     },
     "execution_count": 20,
     "metadata": {},
     "output_type": "execute_result"
    }
   ],
   "source": [
    "table_result"
   ]
  },
  {
   "cell_type": "markdown",
   "metadata": {
    "id": "8iyful1BrN46"
   },
   "source": [
    "###  Another variation: Dropping inner edges\n",
    "i.e., regression over the KG neighbors, no inner loss"
   ]
  },
  {
   "cell_type": "code",
   "execution_count": null,
   "metadata": {
    "id": "ktu8rpQ2W6Ub"
   },
   "outputs": [],
   "source": [
    "relations_inner = []\n",
    "for ii in range(len(relations)):\n",
    "  if relations[ii].rsplit('_',1)[-1] == 'coupling':\n",
    "    relations_inner.append(ii)"
   ]
  },
  {
   "cell_type": "code",
   "execution_count": null,
   "metadata": {
    "id": "9TkAkLDAivNw"
   },
   "outputs": [],
   "source": [
    "edge_list_wo_inner = list(np.delete(np.array(edge_list), relations_inner))\n",
    "relations_wo_inner = list(np.delete(np.array(relations), relations_inner))\n",
    "asym_edge_list_wo_inner = list(np.delete(np.array(asym_edge_list), relations_inner))\n",
    "taus_wo_inner = np.delete(taus, relations_inner)\n",
    "omegas_wo_inner = np.delete(omegas, relations_inner)"
   ]
  },
  {
   "cell_type": "code",
   "execution_count": null,
   "metadata": {
    "id": "t0Fz4OI_MFmE"
   },
   "outputs": [],
   "source": [
    "model_wo_inner =  MrAP(device=device, edge_list=asym_edge_list_wo_inner, omega=omegas_wo_inner, tau=taus_wo_inner)"
   ]
  },
  {
   "cell_type": "code",
   "execution_count": null,
   "metadata": {
    "colab": {
     "base_uri": "https://localhost:8080/",
     "height": 287
    },
    "id": "RLHjMmjDXjz_",
    "outputId": "f088a73f-fd50-4f70-8c4e-ad174dc1a4d6"
   },
   "outputs": [
    {
     "data": {
      "text/html": [
       "<div>\n",
       "<style scoped>\n",
       "    .dataframe tbody tr th:only-of-type {\n",
       "        vertical-align: middle;\n",
       "    }\n",
       "\n",
       "    .dataframe tbody tr th {\n",
       "        vertical-align: top;\n",
       "    }\n",
       "\n",
       "    .dataframe thead th {\n",
       "        text-align: right;\n",
       "    }\n",
       "</style>\n",
       "<table border=\"1\" class=\"dataframe\">\n",
       "  <thead>\n",
       "    <tr style=\"text-align: right;\">\n",
       "      <th></th>\n",
       "      <th>born-RMSE</th>\n",
       "      <th>born-MAE</th>\n",
       "      <th>Created-RMSE</th>\n",
       "      <th>Created-MAE</th>\n",
       "      <th>Destroyed-RMSE</th>\n",
       "      <th>Destroyed-MAE</th>\n",
       "      <th>died-RMSE</th>\n",
       "      <th>died-MAE</th>\n",
       "      <th>Long-RMSE</th>\n",
       "      <th>Long-MAE</th>\n",
       "      <th>Lat-RMSE</th>\n",
       "      <th>Lat-MAE</th>\n",
       "      <th>happened-RMSE</th>\n",
       "      <th>happened-MAE</th>\n",
       "    </tr>\n",
       "  </thead>\n",
       "  <tbody>\n",
       "    <tr>\n",
       "      <th>MrAP-100</th>\n",
       "      <td>31.479919</td>\n",
       "      <td>19.743910</td>\n",
       "      <td>149.636901</td>\n",
       "      <td>70.444597</td>\n",
       "      <td>62.005726</td>\n",
       "      <td>34.614763</td>\n",
       "      <td>84.242613</td>\n",
       "      <td>33.961682</td>\n",
       "      <td>17.142654</td>\n",
       "      <td>5.704237</td>\n",
       "      <td>7.929983</td>\n",
       "      <td>2.765666</td>\n",
       "      <td>73.816374</td>\n",
       "      <td>54.138783</td>\n",
       "    </tr>\n",
       "    <tr>\n",
       "      <th>MrAPwoInner-100</th>\n",
       "      <td>68.780741</td>\n",
       "      <td>24.209732</td>\n",
       "      <td>145.912957</td>\n",
       "      <td>70.791935</td>\n",
       "      <td>67.979523</td>\n",
       "      <td>42.434878</td>\n",
       "      <td>105.015414</td>\n",
       "      <td>49.565534</td>\n",
       "      <td>17.142239</td>\n",
       "      <td>5.701881</td>\n",
       "      <td>7.929909</td>\n",
       "      <td>2.766549</td>\n",
       "      <td>99.392834</td>\n",
       "      <td>62.778376</td>\n",
       "    </tr>\n",
       "    <tr>\n",
       "      <th>MrAP-80</th>\n",
       "      <td>62.362344</td>\n",
       "      <td>21.669413</td>\n",
       "      <td>149.215673</td>\n",
       "      <td>70.534499</td>\n",
       "      <td>54.406482</td>\n",
       "      <td>33.240274</td>\n",
       "      <td>94.271882</td>\n",
       "      <td>37.266638</td>\n",
       "      <td>17.493987</td>\n",
       "      <td>6.396199</td>\n",
       "      <td>8.090711</td>\n",
       "      <td>3.088407</td>\n",
       "      <td>71.500651</td>\n",
       "      <td>50.775440</td>\n",
       "    </tr>\n",
       "    <tr>\n",
       "      <th>MrAPwoInner-80</th>\n",
       "      <td>67.497754</td>\n",
       "      <td>24.016500</td>\n",
       "      <td>145.131702</td>\n",
       "      <td>70.164571</td>\n",
       "      <td>63.626865</td>\n",
       "      <td>37.550853</td>\n",
       "      <td>106.943938</td>\n",
       "      <td>48.179037</td>\n",
       "      <td>17.493987</td>\n",
       "      <td>6.396199</td>\n",
       "      <td>8.090711</td>\n",
       "      <td>3.088407</td>\n",
       "      <td>97.245183</td>\n",
       "      <td>59.191310</td>\n",
       "    </tr>\n",
       "    <tr>\n",
       "      <th>MrAP-50</th>\n",
       "      <td>61.925559</td>\n",
       "      <td>21.100572</td>\n",
       "      <td>135.278577</td>\n",
       "      <td>65.838745</td>\n",
       "      <td>45.931085</td>\n",
       "      <td>28.112485</td>\n",
       "      <td>84.441823</td>\n",
       "      <td>35.003534</td>\n",
       "      <td>18.016979</td>\n",
       "      <td>7.373341</td>\n",
       "      <td>8.578351</td>\n",
       "      <td>3.703517</td>\n",
       "      <td>95.570496</td>\n",
       "      <td>54.027444</td>\n",
       "    </tr>\n",
       "    <tr>\n",
       "      <th>MrAPwoInner-50</th>\n",
       "      <td>65.796620</td>\n",
       "      <td>22.776493</td>\n",
       "      <td>135.236811</td>\n",
       "      <td>65.938374</td>\n",
       "      <td>52.945976</td>\n",
       "      <td>30.373739</td>\n",
       "      <td>93.453452</td>\n",
       "      <td>42.711189</td>\n",
       "      <td>18.016979</td>\n",
       "      <td>7.373341</td>\n",
       "      <td>8.578351</td>\n",
       "      <td>3.703517</td>\n",
       "      <td>93.269154</td>\n",
       "      <td>54.212561</td>\n",
       "    </tr>\n",
       "    <tr>\n",
       "      <th>MrAP-20</th>\n",
       "      <td>61.856513</td>\n",
       "      <td>20.061757</td>\n",
       "      <td>132.552194</td>\n",
       "      <td>66.109362</td>\n",
       "      <td>60.083823</td>\n",
       "      <td>37.627866</td>\n",
       "      <td>93.348505</td>\n",
       "      <td>37.595172</td>\n",
       "      <td>22.583517</td>\n",
       "      <td>11.950388</td>\n",
       "      <td>10.441993</td>\n",
       "      <td>5.400599</td>\n",
       "      <td>97.092485</td>\n",
       "      <td>58.876741</td>\n",
       "    </tr>\n",
       "    <tr>\n",
       "      <th>MrAPwoInner-20</th>\n",
       "      <td>63.507880</td>\n",
       "      <td>21.159391</td>\n",
       "      <td>132.528702</td>\n",
       "      <td>66.744273</td>\n",
       "      <td>64.465080</td>\n",
       "      <td>42.487379</td>\n",
       "      <td>90.689122</td>\n",
       "      <td>37.873996</td>\n",
       "      <td>23.548196</td>\n",
       "      <td>12.054674</td>\n",
       "      <td>9.889951</td>\n",
       "      <td>5.119563</td>\n",
       "      <td>94.310245</td>\n",
       "      <td>58.752680</td>\n",
       "    </tr>\n",
       "  </tbody>\n",
       "</table>\n",
       "</div>"
      ],
      "text/plain": [
       "                 born-RMSE   born-MAE  ...  happened-RMSE  happened-MAE\n",
       "MrAP-100         31.479919  19.743910  ...      73.816374     54.138783\n",
       "MrAPwoInner-100  68.780741  24.209732  ...      99.392834     62.778376\n",
       "MrAP-80          62.362344  21.669413  ...      71.500651     50.775440\n",
       "MrAPwoInner-80   67.497754  24.016500  ...      97.245183     59.191310\n",
       "MrAP-50          61.925559  21.100572  ...      95.570496     54.027444\n",
       "MrAPwoInner-50   65.796620  22.776493  ...      93.269154     54.212561\n",
       "MrAP-20          61.856513  20.061757  ...      97.092485     58.876741\n",
       "MrAPwoInner-20   63.507880  21.159391  ...      94.310245     58.752680\n",
       "\n",
       "[8 rows x 14 columns]"
      ]
     },
     "execution_count": 71,
     "metadata": {
      "tags": []
     },
     "output_type": "execute_result"
    }
   ],
   "source": [
    "table_result = pd.DataFrame(columns=['born-RMSE', 'born-MAE', 'Created-RMSE', 'Created-MAE', 'Destroyed-RMSE', 'Destroyed-MAE','died-RMSE', 'died-MAE',\n",
    "                                     'Long-RMSE', 'Long-MAE', 'Lat-RMSE', 'Lat-MAE', 'happened-RMSE', 'happened-MAE' ])\n",
    "\n",
    "kk=0\n",
    "for u_00 in u_0_list:\n",
    "  u_0 = torch.tensor(u_00, device=device)\n",
    "  x_0 = torch.tensor(x, device=device)\n",
    "  x_0[u_0 == 0] = 0 # Zero-padding of unknown\n",
    "\n",
    "  x_pred = iter_MrAP(x_0, u_0, model, xi=0.5, entity_labels=attribute_labels)\n",
    "  table_result.loc['MrAP-' + splits[kk]]  = get_performance(x_pred, u_0)\n",
    "\n",
    "  x_pred = iter_MrAP(x_0, u_0, model_wo_inner, xi=0.5, entity_labels=attribute_labels)\n",
    "  table_result.loc['MrAPwoInner-' + splits[kk]]  = get_performance(x_pred, u_0)\n",
    "\n",
    "  kk = kk+1\n",
    "\n",
    "table_result"
   ]
  }
 ],
 "metadata": {
  "accelerator": "GPU",
  "colab": {
   "authorship_tag": "ABX9TyNlaBptDUe9v3NmF19y9YfU",
   "collapsed_sections": [],
   "include_colab_link": true,
   "name": "MrAP_YAGO15K.ipynb",
   "provenance": [],
   "toc_visible": true
  },
  "kernelspec": {
   "display_name": "MrAP",
   "language": "python",
   "name": "python3"
  },
  "language_info": {
   "codemirror_mode": {
    "name": "ipython",
    "version": 3
   },
   "file_extension": ".py",
   "mimetype": "text/x-python",
   "name": "python",
   "nbconvert_exporter": "python",
   "pygments_lexer": "ipython3",
   "version": "3.9.21"
  }
 },
 "nbformat": 4,
 "nbformat_minor": 0
}
