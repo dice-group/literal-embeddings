{
 "cells": [
  {
   "cell_type": "markdown",
   "metadata": {
    "colab_type": "text",
    "id": "view-in-github"
   },
   "source": [
    "<a href=\"https://colab.research.google.com/github/bayrameda/MrAP/blob/main/MrAP_FB15K.ipynb\" target=\"_parent\"><img src=\"https://colab.research.google.com/assets/colab-badge.svg\" alt=\"Open In Colab\"/></a>"
   ]
  },
  {
   "cell_type": "code",
   "execution_count": 1,
   "metadata": {
    "id": "J9XrMezXiQuz"
   },
   "outputs": [],
   "source": [
    "import numpy as np\n",
    "import torch\n",
    "import pandas as pd\n",
    "import matplotlib.pyplot as plt\n",
    "%matplotlib inline"
   ]
  },
  {
   "cell_type": "code",
   "execution_count": 2,
   "metadata": {
    "colab": {
     "base_uri": "https://localhost:8080/"
    },
    "id": "rmzDODF9iTG3",
    "outputId": "d6a4323b-1ae2-4cf2-e5e2-f8cbc8089eff"
   },
   "outputs": [
    {
     "name": "stdout",
     "output_type": "stream",
     "text": [
      "cpu\n"
     ]
    }
   ],
   "source": [
    "device = torch.device( 'cpu')\n",
    "print(device)"
   ]
  },
  {
   "cell_type": "markdown",
   "metadata": {
    "id": "xZPHygcxiYhQ"
   },
   "source": [
    "# Data Read"
   ]
  },
  {
   "cell_type": "code",
   "execution_count": 3,
   "metadata": {
    "id": "vQMW2HnyiaHZ"
   },
   "outputs": [],
   "source": [
    "ent_100 = pd.read_csv('../KGs/FB15k-237-lit/train.txt', sep='\\t', header=None)\n",
    "ent_dev = pd.read_csv('../KGs/FB15k-237-lit/val.txt', sep='\\t',header=None,)\n",
    "ent_test = pd.read_csv('../KGs/FB15k-237-lit/test.txt' , sep='\\t', header=None)\n",
    "\n",
    "entities = pd.concat([ent_100, ent_dev, ent_test], ignore_index=True)\n",
    "entities = entities.set_axis(['node', 'attribute', 'numeric'], axis=1)\n",
    "\n",
    "triples = pd.read_csv('../KGs/FB15k-237-lit/FB15K-237_EntityTriples.txt', sep='\\t', header=None, names= ['node_1', 'relation', 'node_2'])\n",
    "triples = triples[triples['node_1'] != triples['node_2']]\n"
   ]
  },
  {
   "cell_type": "code",
   "execution_count": 4,
   "metadata": {
    "id": "UJ_vXk-AmLnk"
   },
   "outputs": [],
   "source": [
    "from utils import extract_edges_FB, estimate_params, reduce_to_singles, performance, drop_sym"
   ]
  },
  {
   "cell_type": "code",
   "execution_count": 5,
   "metadata": {
    "id": "5wjxQmRENejq"
   },
   "outputs": [],
   "source": [
    "dates = ['people.person.date_of_birth',\n",
    "          'film.film.initial_release_date',\n",
    "          'organization.organization.date_founded',\n",
    "          'location.dated_location.date_founded',\n",
    "          'people.deceased_person.date_of_death']\n",
    "corr_attributes = [dates,\n",
    "                    ['people.person.weight_kg','people.person.height_meters'],\n",
    "                    ['location.geocode.latitude'],\n",
    "                    ['location.geocode.longitude'],\n",
    "                    ['location.location.area','topic_server.population_number']]"
   ]
  },
  {
   "cell_type": "code",
   "execution_count": 6,
   "metadata": {
    "id": "nruH2iKkk0Vx"
   },
   "outputs": [],
   "source": [
    "edge_list = []\n",
    "relations = []\n",
    "for attributes in corr_attributes:\n",
    "  entities_ofint = entities[entities.attribute.isin(attributes)]\n",
    "  edge_ofint, rel_ofint = extract_edges_FB(triples, entities_ofint)\n",
    "  edge_list = edge_list + edge_ofint\n",
    "  relations = relations + rel_ofint"
   ]
  },
  {
   "cell_type": "markdown",
   "metadata": {
    "id": "uOb3eYytqlCg"
   },
   "source": [
    "## Stats"
   ]
  },
  {
   "cell_type": "code",
   "execution_count": 7,
   "metadata": {
    "colab": {
     "base_uri": "https://localhost:8080/",
     "height": 377
    },
    "id": "wnS2AMXsUyaa",
    "outputId": "ae3fa010-5e6c-49ba-b649-d107c85a7da6"
   },
   "outputs": [
    {
     "data": {
      "text/html": [
       "<div>\n",
       "<style scoped>\n",
       "    .dataframe tbody tr th:only-of-type {\n",
       "        vertical-align: middle;\n",
       "    }\n",
       "\n",
       "    .dataframe tbody tr th {\n",
       "        vertical-align: top;\n",
       "    }\n",
       "\n",
       "    .dataframe thead th {\n",
       "        text-align: right;\n",
       "    }\n",
       "</style>\n",
       "<table border=\"1\" class=\"dataframe\">\n",
       "  <thead>\n",
       "    <tr style=\"text-align: right;\">\n",
       "      <th></th>\n",
       "      <th>count</th>\n",
       "      <th>min</th>\n",
       "      <th>mean</th>\n",
       "      <th>max</th>\n",
       "    </tr>\n",
       "  </thead>\n",
       "  <tbody>\n",
       "    <tr>\n",
       "      <th>people.person.height_meters</th>\n",
       "      <td>2870.0</td>\n",
       "      <td>1.346000</td>\n",
       "      <td>1.760874e+00</td>\n",
       "      <td>2.180000e+00</td>\n",
       "    </tr>\n",
       "    <tr>\n",
       "      <th>location.geocode.latitude</th>\n",
       "      <td>3205.0</td>\n",
       "      <td>-90.000000</td>\n",
       "      <td>3.714623e+01</td>\n",
       "      <td>7.761361e+01</td>\n",
       "    </tr>\n",
       "    <tr>\n",
       "      <th>people.deceased_person.date_of_death</th>\n",
       "      <td>1218.0</td>\n",
       "      <td>-322.000000</td>\n",
       "      <td>1.962152e+03</td>\n",
       "      <td>2.015583e+03</td>\n",
       "    </tr>\n",
       "    <tr>\n",
       "      <th>location.geocode.longitude</th>\n",
       "      <td>3202.0</td>\n",
       "      <td>-175.200000</td>\n",
       "      <td>-3.618308e+01</td>\n",
       "      <td>1.792167e+02</td>\n",
       "    </tr>\n",
       "    <tr>\n",
       "      <th>people.person.date_of_birth</th>\n",
       "      <td>4424.0</td>\n",
       "      <td>-383.000000</td>\n",
       "      <td>1.940059e+03</td>\n",
       "      <td>1.999917e+03</td>\n",
       "    </tr>\n",
       "    <tr>\n",
       "      <th>location.dated_location.date_founded</th>\n",
       "      <td>922.0</td>\n",
       "      <td>-2999.000000</td>\n",
       "      <td>1.750624e+03</td>\n",
       "      <td>2.011583e+03</td>\n",
       "    </tr>\n",
       "    <tr>\n",
       "      <th>location.location.area</th>\n",
       "      <td>2165.0</td>\n",
       "      <td>0.004047</td>\n",
       "      <td>4.637813e+05</td>\n",
       "      <td>1.652500e+08</td>\n",
       "    </tr>\n",
       "    <tr>\n",
       "      <th>organization.organization.date_founded</th>\n",
       "      <td>1232.0</td>\n",
       "      <td>1088.000000</td>\n",
       "      <td>1.892702e+03</td>\n",
       "      <td>2.012000e+03</td>\n",
       "    </tr>\n",
       "    <tr>\n",
       "      <th>topic_server.population_number</th>\n",
       "      <td>1929.0</td>\n",
       "      <td>1.000000</td>\n",
       "      <td>5.975396e+06</td>\n",
       "      <td>3.130439e+09</td>\n",
       "    </tr>\n",
       "    <tr>\n",
       "      <th>film.film.initial_release_date</th>\n",
       "      <td>1867.0</td>\n",
       "      <td>1927.083333</td>\n",
       "      <td>1.996261e+03</td>\n",
       "      <td>2.013500e+03</td>\n",
       "    </tr>\n",
       "    <tr>\n",
       "      <th>people.person.weight_kg</th>\n",
       "      <td>226.0</td>\n",
       "      <td>44.000000</td>\n",
       "      <td>7.826380e+01</td>\n",
       "      <td>1.470000e+02</td>\n",
       "    </tr>\n",
       "  </tbody>\n",
       "</table>\n",
       "</div>"
      ],
      "text/plain": [
       "                                         count          min          mean  \\\n",
       "people.person.height_meters             2870.0     1.346000  1.760874e+00   \n",
       "location.geocode.latitude               3205.0   -90.000000  3.714623e+01   \n",
       "people.deceased_person.date_of_death    1218.0  -322.000000  1.962152e+03   \n",
       "location.geocode.longitude              3202.0  -175.200000 -3.618308e+01   \n",
       "people.person.date_of_birth             4424.0  -383.000000  1.940059e+03   \n",
       "location.dated_location.date_founded     922.0 -2999.000000  1.750624e+03   \n",
       "location.location.area                  2165.0     0.004047  4.637813e+05   \n",
       "organization.organization.date_founded  1232.0  1088.000000  1.892702e+03   \n",
       "topic_server.population_number          1929.0     1.000000  5.975396e+06   \n",
       "film.film.initial_release_date          1867.0  1927.083333  1.996261e+03   \n",
       "people.person.weight_kg                  226.0    44.000000  7.826380e+01   \n",
       "\n",
       "                                                 max  \n",
       "people.person.height_meters             2.180000e+00  \n",
       "location.geocode.latitude               7.761361e+01  \n",
       "people.deceased_person.date_of_death    2.015583e+03  \n",
       "location.geocode.longitude              1.792167e+02  \n",
       "people.person.date_of_birth             1.999917e+03  \n",
       "location.dated_location.date_founded    2.011583e+03  \n",
       "location.location.area                  1.652500e+08  \n",
       "organization.organization.date_founded  2.012000e+03  \n",
       "topic_server.population_number          3.130439e+09  \n",
       "film.film.initial_release_date          2.013500e+03  \n",
       "people.person.weight_kg                 1.470000e+02  "
      ]
     },
     "execution_count": 7,
     "metadata": {},
     "output_type": "execute_result"
    }
   ],
   "source": [
    "entity_stat = pd.DataFrame(columns=['count','min', 'mean', 'max'])\n",
    "attributes = entities['attribute'].unique().tolist()\n",
    "for key in attributes:\n",
    "  numerics = entities[entities['attribute']==key]['numeric']\n",
    "  entity_stat.loc[key] = [len(numerics), numerics.min(),numerics.mean(),numerics.max()]\n",
    "entity_stat"
   ]
  },
  {
   "cell_type": "markdown",
   "metadata": {
    "id": "e1P1sV4CqaKa"
   },
   "source": [
    "### Multi-relational graph stats"
   ]
  },
  {
   "cell_type": "code",
   "execution_count": 8,
   "metadata": {
    "colab": {
     "base_uri": "https://localhost:8080/"
    },
    "id": "mmN74MCrniPy",
    "outputId": "c02352e0-1d4c-4bf0-dd2b-bea0ffdecbe3"
   },
   "outputs": [
    {
     "name": "stdout",
     "output_type": "stream",
     "text": [
      "Number of attribute types =  11\n",
      "Total number of numerical facts =  23260\n",
      "Total number of entities =  10072\n",
      "Total number of triple facts =  308310\n",
      "Number of relation types =  234\n",
      "Number of regression models =  310\n",
      "Number of message passing paths = 182730\n"
     ]
    }
   ],
   "source": [
    "print('Number of attribute types = ', entities['attribute'].nunique())\n",
    "N = len(entities)\n",
    "print('Total number of numerical facts = ', N)\n",
    "print('Total number of entities = ',entities.node.nunique())\n",
    "print('Total number of triple facts = ', len(triples))\n",
    "print('Number of relation types = ',triples.relation.nunique())\n",
    "print('Number of regression models = ', len(relations))\n",
    "asym_edge_list = drop_sym(edge_list)\n",
    "print('Number of message passing paths =', len(np.concatenate(asym_edge_list)))"
   ]
  },
  {
   "cell_type": "code",
   "execution_count": 9,
   "metadata": {
    "id": "48dfM6WssbaC"
   },
   "outputs": [],
   "source": [
    "attribute_labels = entities.attribute.values # corresponding entity labels of the nodes\n",
    "x = entities.numeric.values.copy() # ordering of entities is compatible with the node ordering in triples"
   ]
  },
  {
   "cell_type": "markdown",
   "metadata": {
    "id": "Vr5szz6RYvzg"
   },
   "source": [
    "### Histogram demo"
   ]
  },
  {
   "cell_type": "code",
   "execution_count": 10,
   "metadata": {
    "colab": {
     "base_uri": "https://localhost:8080/",
     "height": 173
    },
    "id": "v88TwofLY4tm",
    "outputId": "b093bcee-4538-4c70-b070-1286dd0fc59a"
   },
   "outputs": [
    {
     "data": {
      "image/png": "[encoded data removed]",
      "text/plain": [
       "<Figure size 1000x200 with 3 Axes>"
      ]
     },
     "metadata": {},
     "output_type": "display_data"
    }
   ],
   "source": [
    "normal = lambda x, m, std, peak : peak*np.exp(-1/2*(x-m)**2/std**2)\n",
    "\n",
    "def hist_plot(diff_pair, rel):\n",
    "  bin_vals, bin_edges, _  = plt.hist(diff_pair, bins=100, color='snow', ec= 'grey');\n",
    "  plt.plot(bin_edges, normal(bin_edges,diff_pair.mean(),diff_pair.std(),max(bin_vals)), 'k')\n",
    "  plt.title(rel);\n",
    "\n",
    "plt.figure(figsize=(10, 2));\n",
    "\n",
    "pairs = edge_list[relations.index('/film/director/film')]\n",
    "x_pairs = x[pairs]\n",
    "diff_pair = x_pairs[:,1] - x_pairs[:,0]\n",
    "plt.subplot(1,3,1)\n",
    "hist_plot(diff_pair, 'birth/directed/film')\n",
    "\n",
    "pairs = edge_list[relations.index('people.deceased_person.date_of_death_coupling')]\n",
    "x_pairs = x[pairs]\n",
    "diff_pair = x_pairs[:,1] - x_pairs[:,0]\n",
    "plt.subplot(1,3,2)\n",
    "hist_plot(diff_pair, 'birth/death')\n",
    "\n",
    "lat_ent = entities[entities['attribute']=='location.geocode.latitude']\n",
    "long_ent = entities[entities['attribute']=='location.geocode.longitude']\n",
    "diff_pair = [long_ent[long_ent.node== node]['numeric'].item()- lat_ent[lat_ent.node== node]['numeric'].item() for node in lat_ent.node.to_list() if node in long_ent.node.to_list()]\n",
    "diff_pair = np.array(diff_pair)\n",
    "plt.subplot(1,3,3)\n",
    "plt.hist(diff_pair, bins=100, color='snow', ec= 'grey');\n",
    "plt.title('latitude/longitude');\n",
    "\n",
    "\n",
    "#plt.savefig('histograms.pdf')"
   ]
  },
  {
   "cell_type": "markdown",
   "metadata": {
    "id": "sv5E4oMTtGsY"
   },
   "source": [
    "# Performances"
   ]
  },
  {
   "cell_type": "code",
   "execution_count": 11,
   "metadata": {
    "id": "S52NLzhnjO6H"
   },
   "outputs": [],
   "source": [
    "def indices(entities_interest): #get the indicies of the entities of interest wrt x ordering\n",
    "  return [entities[(entities.node == row[0]) & (entities.attribute == row[1])].index.item() for ind, row in entities_interest.iterrows()]\n",
    "\n",
    "splits = ['100']\n",
    "idx_train = [indices(item) for item in [ent_100]] #train = known, dev+test=unknown\n",
    "\n",
    "def comp_u(idx):\n",
    "  u = np.zeros(N, dtype=bool)\n",
    "  u[idx] = 1\n",
    "  return u\n",
    "\n",
    "u_0_list = [comp_u(idx) for idx in idx_train]\n",
    "\n",
    "#idx_val = indices(ent_dev)\n",
    "idx_test = indices(ent_test)\n",
    "idx_test_atts = [[item for item in idx_test if item in np.where(attribute_labels == att)[0]] for att in attributes]"
   ]
  },
  {
   "cell_type": "markdown",
   "metadata": {
    "id": "PD5JbMC0-vDZ"
   },
   "source": [
    "Ratio known dates"
   ]
  },
  {
   "cell_type": "code",
   "execution_count": 12,
   "metadata": {
    "colab": {
     "base_uri": "https://localhost:8080/"
    },
    "id": "QdBn9jDC-PB-",
    "outputId": "fe0f4776-3cba-4151-81c4-b9a05bc8f03e"
   },
   "outputs": [
    {
     "name": "stdout",
     "output_type": "stream",
     "text": [
      "Train=known, ratios= [0.8]\n"
     ]
    }
   ],
   "source": [
    "print('Train=known, ratios=', [len(item)/N for item in idx_train])"
   ]
  },
  {
   "cell_type": "code",
   "execution_count": 13,
   "metadata": {
    "id": "hLp5nhaS3FeB"
   },
   "outputs": [],
   "source": [
    "def get_performance(x_pred, u_0):\n",
    "  tups = [performance(x_pred, x[idx], u_0, idx) for idx in idx_test_atts] # performance on each attribute type\n",
    "  return [item for tupl in tups for item in tupl] #merging all"
   ]
  },
  {
   "cell_type": "markdown",
   "metadata": {
    "id": "gSaxrfQdrTXz"
   },
   "source": [
    "### Algorithms"
   ]
  },
  {
   "cell_type": "code",
   "execution_count": 14,
   "metadata": {
    "id": "w4xw983K5ccO"
   },
   "outputs": [],
   "source": [
    "from MrAP import MrAP\n",
    "from algs import Global, Local, iter_MrAP"
   ]
  },
  {
   "cell_type": "markdown",
   "metadata": {
    "id": "8mN3_s_VreA0"
   },
   "source": [
    "A variation : Reduction of the edges to the ones among single type of attribute \\\\\n",
    "i.e., reduce the regression of one attribute from the same type of another"
   ]
  },
  {
   "cell_type": "code",
   "execution_count": 15,
   "metadata": {
    "id": "-nzP9gCg5lAl"
   },
   "outputs": [],
   "source": [
    "edge_list_singles, relations_singles, attribute_coupled = reduce_to_singles(edge_list, attribute_labels)\n",
    "asym_edge_list_singles = drop_sym(edge_list_singles)"
   ]
  },
  {
   "cell_type": "code",
   "execution_count": 16,
   "metadata": {
    "id": "gCiWiiczri6e"
   },
   "outputs": [],
   "source": [
    "rel_to_scale = [relations.index(item) for item in ['people.person.weight_kg_coupling', 'topic_server.population_number_coupling']]\n",
    "taus, omegas, etas, _ = estimate_params(edge_list, x, rel_to_scale)\n",
    "tau_singles = taus[relations_singles]\n",
    "omega_singles = omegas[relations_singles]\n",
    "eta_singles = etas[relations_singles]"
   ]
  },
  {
   "cell_type": "code",
   "execution_count": 18,
   "metadata": {
    "id": "5_FF1jE5Ry2n"
   },
   "outputs": [],
   "source": [
    "model = MrAP(device=device, edge_list=asym_edge_list, eta=etas, omega=omegas, tau=taus)"
   ]
  },
  {
   "cell_type": "code",
   "execution_count": null,
   "metadata": {
    "id": "vVEVSgoR1oHm"
   },
   "outputs": [],
   "source": [
    "table_result = pd.DataFrame(columns = [\n",
    "    'height-RMSE', 'height-MAE',\n",
    "    'lat-RMSE', 'lat-MAE',\n",
    "    'death-RMSE', 'death-MAE',\n",
    "    'long-RMSE', 'long-MAE',\n",
    "    'birth-RMSE', 'birth-MAE',\n",
    "    'date_founded-RMSE', 'date_founded-MAE',\n",
    "    'area-RMSE', 'area-MAE',\n",
    "    'org-RMSE', 'org-MAE',\n",
    "    'pop-RMSE', 'pop-MAE',\n",
    "    'film-RMSE', 'film-MAE',\n",
    "    'weight-RMSE', 'weight-MAE'\n",
    "])\n",
    "\n",
    "\n",
    "kk=0\n",
    "for u_00 in u_0_list:\n",
    "  u_0 = torch.tensor(u_00, device=device)\n",
    "  x_0 = torch.tensor(x, device=device)\n",
    "  x_0[u_0 == 0] = 0 # Zero-padding of unknown\n",
    "\n",
    "  x_pred = Global(x_0, u_0, attribute_labels)\n",
    "  table_result.loc['Global-' + splits[kk]] = get_performance(x_pred, u_0)\n",
    "\n",
    "  x_pred = Local(asym_edge_list, x_0, u_0, attribute_labels)\n",
    "  table_result.loc['Local-' + splits[kk]] = get_performance(x_pred, u_0)\n",
    "\n",
    "  x_pred = iter_MrAP(x_0, u_0, model, xi=0.5, entity_labels=attribute_labels)\n",
    "  table_result.loc['MrAP_cross-' + splits[kk]]  = get_performance(x_pred, u_0)\n",
    "\n",
    "  kk = kk+1"
   ]
  },
  {
   "cell_type": "code",
   "execution_count": 25,
   "metadata": {},
   "outputs": [
    {
     "data": {
      "text/html": [
       "<div>\n",
       "<style scoped>\n",
       "    .dataframe tbody tr th:only-of-type {\n",
       "        vertical-align: middle;\n",
       "    }\n",
       "\n",
       "    .dataframe tbody tr th {\n",
       "        vertical-align: top;\n",
       "    }\n",
       "\n",
       "    .dataframe thead th {\n",
       "        text-align: right;\n",
       "    }\n",
       "</style>\n",
       "<table border=\"1\" class=\"dataframe\">\n",
       "  <thead>\n",
       "    <tr style=\"text-align: right;\">\n",
       "      <th></th>\n",
       "      <th>height-RMSE</th>\n",
       "      <th>height-MAE</th>\n",
       "      <th>lat-RMSE</th>\n",
       "      <th>lat-MAE</th>\n",
       "      <th>death-RMSE</th>\n",
       "      <th>death-MAE</th>\n",
       "      <th>long-RMSE</th>\n",
       "      <th>long-MAE</th>\n",
       "      <th>birth-RMSE</th>\n",
       "      <th>birth-MAE</th>\n",
       "      <th>...</th>\n",
       "      <th>area-RMSE</th>\n",
       "      <th>area-MAE</th>\n",
       "      <th>org-RMSE</th>\n",
       "      <th>org-MAE</th>\n",
       "      <th>pop-RMSE</th>\n",
       "      <th>pop-MAE</th>\n",
       "      <th>film-RMSE</th>\n",
       "      <th>film-MAE</th>\n",
       "      <th>weight-RMSE</th>\n",
       "      <th>weight-MAE</th>\n",
       "    </tr>\n",
       "  </thead>\n",
       "  <tbody>\n",
       "    <tr>\n",
       "      <th>Global-100</th>\n",
       "      <td>0.097217</td>\n",
       "      <td>0.079388</td>\n",
       "      <td>19.659801</td>\n",
       "      <td>12.402766</td>\n",
       "      <td>188.342251</td>\n",
       "      <td>56.560923</td>\n",
       "      <td>67.384904</td>\n",
       "      <td>58.391222</td>\n",
       "      <td>158.364972</td>\n",
       "      <td>35.801805</td>\n",
       "      <td>...</td>\n",
       "      <td>1.265433e+07</td>\n",
       "      <td>1.842883e+06</td>\n",
       "      <td>131.101854</td>\n",
       "      <td>81.028576</td>\n",
       "      <td>1.503801e+07</td>\n",
       "      <td>7.184317e+06</td>\n",
       "      <td>16.024871</td>\n",
       "      <td>12.200092</td>\n",
       "      <td>18.655968</td>\n",
       "      <td>12.505654</td>\n",
       "    </tr>\n",
       "    <tr>\n",
       "      <th>Local-100</th>\n",
       "      <td>255593.748968</td>\n",
       "      <td>126870.280448</td>\n",
       "      <td>112530.143763</td>\n",
       "      <td>24594.611888</td>\n",
       "      <td>46248.547370</td>\n",
       "      <td>4264.508871</td>\n",
       "      <td>99102.477900</td>\n",
       "      <td>19078.035808</td>\n",
       "      <td>76132.034312</td>\n",
       "      <td>11357.152517</td>\n",
       "      <td>...</td>\n",
       "      <td>1.387694e+07</td>\n",
       "      <td>4.366032e+06</td>\n",
       "      <td>145421.935635</td>\n",
       "      <td>41313.985624</td>\n",
       "      <td>3.079687e+08</td>\n",
       "      <td>9.215919e+07</td>\n",
       "      <td>130.808748</td>\n",
       "      <td>107.320476</td>\n",
       "      <td>249741.024965</td>\n",
       "      <td>121196.008929</td>\n",
       "    </tr>\n",
       "    <tr>\n",
       "      <th>MrAP_cross-100</th>\n",
       "      <td>0.102283</td>\n",
       "      <td>0.082259</td>\n",
       "      <td>3.813369</td>\n",
       "      <td>1.707035</td>\n",
       "      <td>24.816822</td>\n",
       "      <td>14.402354</td>\n",
       "      <td>14.385444</td>\n",
       "      <td>4.161509</td>\n",
       "      <td>45.068335</td>\n",
       "      <td>14.551100</td>\n",
       "      <td>...</td>\n",
       "      <td>1.225033e+07</td>\n",
       "      <td>1.893563e+06</td>\n",
       "      <td>102.773681</td>\n",
       "      <td>62.589455</td>\n",
       "      <td>1.260852e+08</td>\n",
       "      <td>2.429854e+07</td>\n",
       "      <td>7.946893</td>\n",
       "      <td>5.826835</td>\n",
       "      <td>13.129429</td>\n",
       "      <td>10.856814</td>\n",
       "    </tr>\n",
       "  </tbody>\n",
       "</table>\n",
       "<p>3 rows × 22 columns</p>\n",
       "</div>"
      ],
      "text/plain": [
       "                  height-RMSE     height-MAE       lat-RMSE       lat-MAE  \\\n",
       "Global-100           0.097217       0.079388      19.659801     12.402766   \n",
       "Local-100       255593.748968  126870.280448  112530.143763  24594.611888   \n",
       "MrAP_cross-100       0.102283       0.082259       3.813369      1.707035   \n",
       "\n",
       "                  death-RMSE    death-MAE     long-RMSE      long-MAE  \\\n",
       "Global-100        188.342251    56.560923     67.384904     58.391222   \n",
       "Local-100       46248.547370  4264.508871  99102.477900  19078.035808   \n",
       "MrAP_cross-100     24.816822    14.402354     14.385444      4.161509   \n",
       "\n",
       "                  birth-RMSE     birth-MAE  ...     area-RMSE      area-MAE  \\\n",
       "Global-100        158.364972     35.801805  ...  1.265433e+07  1.842883e+06   \n",
       "Local-100       76132.034312  11357.152517  ...  1.387694e+07  4.366032e+06   \n",
       "MrAP_cross-100     45.068335     14.551100  ...  1.225033e+07  1.893563e+06   \n",
       "\n",
       "                     org-RMSE       org-MAE      pop-RMSE       pop-MAE  \\\n",
       "Global-100         131.101854     81.028576  1.503801e+07  7.184317e+06   \n",
       "Local-100       145421.935635  41313.985624  3.079687e+08  9.215919e+07   \n",
       "MrAP_cross-100     102.773681     62.589455  1.260852e+08  2.429854e+07   \n",
       "\n",
       "                 film-RMSE    film-MAE    weight-RMSE     weight-MAE  \n",
       "Global-100       16.024871   12.200092      18.655968      12.505654  \n",
       "Local-100       130.808748  107.320476  249741.024965  121196.008929  \n",
       "MrAP_cross-100    7.946893    5.826835      13.129429      10.856814  \n",
       "\n",
       "[3 rows x 22 columns]"
      ]
     },
     "execution_count": 25,
     "metadata": {},
     "output_type": "execute_result"
    }
   ],
   "source": [
    "table_result\n"
   ]
  }
 ],
 "metadata": {
  "accelerator": "GPU",
  "colab": {
   "authorship_tag": "ABX9TyODArcQom6UlDFtj7qPigyn",
   "collapsed_sections": [],
   "include_colab_link": true,
   "name": "MrAP_FB15K.ipynb",
   "provenance": [],
   "toc_visible": true
  },
  "kernelspec": {
   "display_name": "dice2",
   "language": "python",
   "name": "python3"
  },
  "language_info": {
   "codemirror_mode": {
    "name": "ipython",
    "version": 3
   },
   "file_extension": ".py",
   "mimetype": "text/x-python",
   "name": "python",
   "nbconvert_exporter": "python",
   "pygments_lexer": "ipython3",
   "version": "3.10.13"
  }
 },
 "nbformat": 4,
 "nbformat_minor": 0
}
